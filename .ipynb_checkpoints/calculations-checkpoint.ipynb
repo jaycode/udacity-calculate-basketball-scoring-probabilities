{
 "cells": [
  {
   "cell_type": "code",
   "execution_count": 1,
   "id": "4365424b-8668-492b-99cf-2c15dfa08fc3",
   "metadata": {},
   "outputs": [],
   "source": [
    "import pandas as pd\n",
    "from scipy.stats import binom"
   ]
  },
  {
   "cell_type": "code",
   "execution_count": 2,
   "id": "ecb0507c-d33e-4553-8404-626137dd6ba5",
   "metadata": {},
   "outputs": [
    {
     "name": "stdout",
     "output_type": "stream",
     "text": [
      "Overall probability of a make: 49.02%\n",
      "Overall probability of a miss: 50.98%\n",
      "Overall proportion of three-pointers: 54.81%\n",
      "Overall proportion of two-pointers: 45.19%\n"
     ]
    }
   ],
   "source": [
    "# Load the dataset\n",
    "data = pd.read_csv('stephen_curry_shots_2023.csv')\n",
    "\n",
    "# Calculate overall probabilities and proportions\n",
    "# Probability of a made shot (result = TRUE)\n",
    "probability_make = data['result'].mean()\n",
    "\n",
    "# Probability of a missed shot (result = FALSE)\n",
    "probability_miss = 1 - probability_make\n",
    "\n",
    "# Proportion of three-pointers (shot_type = 3)\n",
    "proportion_three_pointers = (data['shot_type'] == 3).mean()\n",
    "\n",
    "# Proportion of two-pointers (shot_type = 2)\n",
    "proportion_two_pointers = (data['shot_type'] == 2).mean()\n",
    "\n",
    "# Report the results\n",
    "print(f\"Overall probability of a make: {probability_make:.2%}\")\n",
    "print(f\"Overall probability of a miss: {probability_miss:.2%}\")\n",
    "print(f\"Overall proportion of three-pointers: {proportion_three_pointers:.2%}\")\n",
    "print(f\"Overall proportion of two-pointers: {proportion_two_pointers:.2%}\")\n"
   ]
  },
  {
   "cell_type": "code",
   "execution_count": 3,
   "id": "e839e3cc-7b88-427c-91a6-86c9aa6427e6",
   "metadata": {},
   "outputs": [
    {
     "data": {
      "text/plain": [
       "0.31249999999999983"
      ]
     },
     "execution_count": 3,
     "metadata": {},
     "output_type": "execute_result"
    }
   ],
   "source": [
    "binom.pmf(2, 5, 0.5)"
   ]
  },
  {
   "cell_type": "code",
   "execution_count": 4,
   "id": "10cc281a-8741-4c2d-bbc2-a76b970da157",
   "metadata": {},
   "outputs": [
    {
     "name": "stdout",
     "output_type": "stream",
     "text": [
      "Probability of Steph making 3 of the next 4 shots: 24.02%\n",
      "Probability that 4 of the next 5 shots are three-pointers: 20.39%\n"
     ]
    }
   ],
   "source": [
    "# Probability of Steph making 3 of the next 4 shots\n",
    "n_shots = 4\n",
    "k_makes = 3\n",
    "probability_3_of_4 = binom.pmf(k_makes, n_shots, probability_make)\n",
    "\n",
    "# Probability that 4 of the next 5 shots are three-pointers\n",
    "n_total_shots = 5\n",
    "k_three_pointers = 4\n",
    "probability_4_of_5_three_pointers = binom.pmf(k_three_pointers, n_total_shots, proportion_three_pointers)\n",
    "\n",
    "print(f\"Probability of Steph making 3 of the next 4 shots: {probability_3_of_4:.2%}\")\n",
    "print(f\"Probability that 4 of the next 5 shots are three-pointers: {probability_4_of_5_three_pointers:.2%}\")\n"
   ]
  },
  {
   "cell_type": "code",
   "execution_count": 5,
   "id": "3d5cee44-2680-441c-8124-87e89e27fa35",
   "metadata": {},
   "outputs": [
    {
     "name": "stdout",
     "output_type": "stream",
     "text": [
      "\n",
      "Conditional probabilities:\n",
      "If the next shot is a three-pointer:\n",
      "  - Probability he makes it: 41.86%\n",
      "  - Probability it was taken while his team had the lead: 49.36%\n",
      "If the next shot is a two-pointer:\n",
      "  - Probability he makes it: 57.72%\n",
      "  - Probability it was taken while his team had the lead: 51.54%\n"
     ]
    }
   ],
   "source": [
    "# Explicitly calculate conditional probabilities using Bayes' Theorem\n",
    "# Total shots\n",
    "total_shots = len(data)\n",
    "\n",
    "# If the next shot is a three-pointer\n",
    "three_point_data = data[data['shot_type'] == 3]\n",
    "probability_three_pointer = len(three_point_data) / total_shots\n",
    "probability_make_and_three = len(three_point_data[three_point_data['result'] == True]) / total_shots\n",
    "probability_lead_and_three = len(three_point_data[three_point_data['lead'] == True]) / total_shots\n",
    "\n",
    "probability_make_given_three = probability_make_and_three / probability_three_pointer\n",
    "probability_lead_given_three = probability_lead_and_three / probability_three_pointer\n",
    "\n",
    "# If the next shot is a two-pointer\n",
    "two_point_data = data[data['shot_type'] == 2]\n",
    "probability_two_pointer = len(two_point_data) / total_shots\n",
    "probability_make_and_two = len(two_point_data[two_point_data['result'] == True]) / total_shots\n",
    "probability_lead_and_two = len(two_point_data[two_point_data['lead'] == True]) / total_shots\n",
    "\n",
    "probability_make_given_two = probability_make_and_two / probability_two_pointer\n",
    "probability_lead_given_two = probability_lead_and_two / probability_two_pointer\n",
    "\n",
    "print(f\"\\nConditional probabilities:\")\n",
    "print(f\"If the next shot is a three-pointer:\")\n",
    "print(f\"  - Probability he makes it: {probability_make_given_three:.2%}\")\n",
    "print(f\"  - Probability it was taken while his team had the lead: {probability_lead_given_three:.2%}\")\n",
    "\n",
    "print(f\"If the next shot is a two-pointer:\")\n",
    "print(f\"  - Probability he makes it: {probability_make_given_two:.2%}\")\n",
    "print(f\"  - Probability it was taken while his team had the lead: {probability_lead_given_two:.2%}\")"
   ]
  },
  {
   "cell_type": "code",
   "execution_count": 6,
   "id": "76476dc4-e705-4bea-8fa6-2169b0607867",
   "metadata": {},
   "outputs": [
    {
     "name": "stdout",
     "output_type": "stream",
     "text": [
      "\n",
      "Conditional probabilities:\n",
      "If the next shot is a three-pointer:\n",
      "  - Probability he makes it: 41.86%\n",
      "  - Probability it was taken while his team had the lead: 49.36%\n",
      "If the next shot is a two-pointer:\n",
      "  - Probability he makes it: 57.72%\n",
      "  - Probability it was taken while his team had the lead: 51.54%\n"
     ]
    }
   ],
   "source": [
    "# Or, without Bayes' Theorem, but by leveraging the filters\n",
    "# If the next shot is a three-pointer\n",
    "three_point_data = data[data['shot_type'] == 3]\n",
    "probability_make_given_three = three_point_data['result'].mean()\n",
    "probability_lead_given_three = three_point_data['lead'].mean()\n",
    "\n",
    "# If the next shot is a two-pointer\n",
    "two_point_data = data[data['shot_type'] == 2]\n",
    "probability_make_given_two = two_point_data['result'].mean()\n",
    "probability_lead_given_two = two_point_data['lead'].mean()\n",
    "\n",
    "print(f\"\\nConditional probabilities:\")\n",
    "print(f\"If the next shot is a three-pointer:\")\n",
    "print(f\"  - Probability he makes it: {probability_make_given_three:.2%}\")\n",
    "print(f\"  - Probability it was taken while his team had the lead: {probability_lead_given_three:.2%}\")\n",
    "\n",
    "print(f\"If the next shot is a two-pointer:\")\n",
    "print(f\"  - Probability he makes it: {probability_make_given_two:.2%}\")\n",
    "print(f\"  - Probability it was taken while his team had the lead: {probability_lead_given_two:.2%}\")"
   ]
  },
  {
   "cell_type": "code",
   "execution_count": 7,
   "id": "ae3ca870-2a46-410e-9093-5ec66142ba8b",
   "metadata": {},
   "outputs": [
    {
     "name": "stdout",
     "output_type": "stream",
     "text": [
      "\n",
      "If Steph just made a shot:\n",
      "  - Probability it was a three-pointer: 46.80%\n",
      "  - Probability it was a two-pointer: 53.20%\n",
      "  - Probability his team was in the lead: 56.19%\n"
     ]
    }
   ],
   "source": [
    "# Conditional probabilities if Steph just made a shot\n",
    "made_shot_data = data[data['result'] == True]\n",
    "probability_three_given_make = len(made_shot_data[made_shot_data['shot_type'] == 3]) / len(made_shot_data)\n",
    "probability_two_given_make = len(made_shot_data[made_shot_data['shot_type'] == 2]) / len(made_shot_data)\n",
    "probability_lead_given_make = made_shot_data['lead'].mean()\n",
    "\n",
    "\n",
    "print(f\"\\nIf Steph just made a shot:\")\n",
    "print(f\"  - Probability it was a three-pointer: {probability_three_given_make:.2%}\")\n",
    "print(f\"  - Probability it was a two-pointer: {probability_two_given_make:.2%}\")\n",
    "print(f\"  - Probability his team was in the lead: {probability_lead_given_make:.2%}\")"
   ]
  }
 ],
 "metadata": {
  "kernelspec": {
   "display_name": "Python 3 (ipykernel)",
   "language": "python",
   "name": "python3"
  },
  "language_info": {
   "codemirror_mode": {
    "name": "ipython",
    "version": 3
   },
   "file_extension": ".py",
   "mimetype": "text/x-python",
   "name": "python",
   "nbconvert_exporter": "python",
   "pygments_lexer": "ipython3",
   "version": "3.12.7"
  }
 },
 "nbformat": 4,
 "nbformat_minor": 5
}
